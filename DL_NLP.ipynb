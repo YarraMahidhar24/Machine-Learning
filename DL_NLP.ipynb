{
 "cells": [
  {
   "cell_type": "markdown",
   "id": "22ea8719-4219-4878-b97f-2b15eb13348e",
   "metadata": {},
   "source": [
    "# NLP"
   ]
  },
  {
   "cell_type": "markdown",
   "id": "d8108db6-f0c5-4238-9824-6be195a59036",
   "metadata": {},
   "source": [
    "# Natural Language Processing \n",
    "## NLU= Natural Language Understanding\n",
    "## NLG= Natural Language Generation"
   ]
  },
  {
   "cell_type": "code",
   "execution_count": 62,
   "id": "95ca711a-38b5-4a90-a6f1-0ac127320c89",
   "metadata": {},
   "outputs": [
    {
     "name": "stdout",
     "output_type": "stream",
     "text": [
      "Requirement already satisfied: spacy in c:\\users\\yarra\\anaconda3\\lib\\site-packages (3.8.3)\n",
      "Requirement already satisfied: spacy-legacy<3.1.0,>=3.0.11 in c:\\users\\yarra\\anaconda3\\lib\\site-packages (from spacy) (3.0.12)\n",
      "Requirement already satisfied: spacy-loggers<2.0.0,>=1.0.0 in c:\\users\\yarra\\anaconda3\\lib\\site-packages (from spacy) (1.0.5)\n",
      "Requirement already satisfied: murmurhash<1.1.0,>=0.28.0 in c:\\users\\yarra\\anaconda3\\lib\\site-packages (from spacy) (1.0.11)\n",
      "Requirement already satisfied: cymem<2.1.0,>=2.0.2 in c:\\users\\yarra\\anaconda3\\lib\\site-packages (from spacy) (2.0.10)\n",
      "Requirement already satisfied: preshed<3.1.0,>=3.0.2 in c:\\users\\yarra\\anaconda3\\lib\\site-packages (from spacy) (3.0.9)\n",
      "Requirement already satisfied: thinc<8.4.0,>=8.3.0 in c:\\users\\yarra\\anaconda3\\lib\\site-packages (from spacy) (8.3.3)\n",
      "Requirement already satisfied: wasabi<1.2.0,>=0.9.1 in c:\\users\\yarra\\anaconda3\\lib\\site-packages (from spacy) (1.1.3)\n",
      "Requirement already satisfied: srsly<3.0.0,>=2.4.3 in c:\\users\\yarra\\anaconda3\\lib\\site-packages (from spacy) (2.5.0)\n",
      "Requirement already satisfied: catalogue<2.1.0,>=2.0.6 in c:\\users\\yarra\\anaconda3\\lib\\site-packages (from spacy) (2.0.10)\n",
      "Requirement already satisfied: weasel<0.5.0,>=0.1.0 in c:\\users\\yarra\\anaconda3\\lib\\site-packages (from spacy) (0.4.1)\n",
      "Requirement already satisfied: typer<1.0.0,>=0.3.0 in c:\\users\\yarra\\anaconda3\\lib\\site-packages (from spacy) (0.9.0)\n",
      "Requirement already satisfied: tqdm<5.0.0,>=4.38.0 in c:\\users\\yarra\\anaconda3\\lib\\site-packages (from spacy) (4.66.4)\n",
      "Requirement already satisfied: numpy>=1.19.0 in c:\\users\\yarra\\anaconda3\\lib\\site-packages (from spacy) (1.26.4)\n",
      "Requirement already satisfied: requests<3.0.0,>=2.13.0 in c:\\users\\yarra\\anaconda3\\lib\\site-packages (from spacy) (2.32.2)\n",
      "Requirement already satisfied: pydantic!=1.8,!=1.8.1,<3.0.0,>=1.7.4 in c:\\users\\yarra\\anaconda3\\lib\\site-packages (from spacy) (2.8.2)\n",
      "Requirement already satisfied: jinja2 in c:\\users\\yarra\\anaconda3\\lib\\site-packages (from spacy) (3.1.4)\n",
      "Requirement already satisfied: setuptools in c:\\users\\yarra\\anaconda3\\lib\\site-packages (from spacy) (69.5.1)\n",
      "Requirement already satisfied: packaging>=20.0 in c:\\users\\yarra\\anaconda3\\lib\\site-packages (from spacy) (23.2)\n",
      "Requirement already satisfied: langcodes<4.0.0,>=3.2.0 in c:\\users\\yarra\\anaconda3\\lib\\site-packages (from spacy) (3.5.0)\n",
      "Requirement already satisfied: language-data>=1.2 in c:\\users\\yarra\\anaconda3\\lib\\site-packages (from langcodes<4.0.0,>=3.2.0->spacy) (1.3.0)\n",
      "Requirement already satisfied: annotated-types>=0.4.0 in c:\\users\\yarra\\anaconda3\\lib\\site-packages (from pydantic!=1.8,!=1.8.1,<3.0.0,>=1.7.4->spacy) (0.6.0)\n",
      "Requirement already satisfied: pydantic-core==2.20.1 in c:\\users\\yarra\\anaconda3\\lib\\site-packages (from pydantic!=1.8,!=1.8.1,<3.0.0,>=1.7.4->spacy) (2.20.1)\n",
      "Requirement already satisfied: typing-extensions>=4.6.1 in c:\\users\\yarra\\anaconda3\\lib\\site-packages (from pydantic!=1.8,!=1.8.1,<3.0.0,>=1.7.4->spacy) (4.11.0)\n",
      "Requirement already satisfied: charset-normalizer<4,>=2 in c:\\users\\yarra\\anaconda3\\lib\\site-packages (from requests<3.0.0,>=2.13.0->spacy) (2.0.4)\n",
      "Requirement already satisfied: idna<4,>=2.5 in c:\\users\\yarra\\anaconda3\\lib\\site-packages (from requests<3.0.0,>=2.13.0->spacy) (3.7)\n",
      "Requirement already satisfied: urllib3<3,>=1.21.1 in c:\\users\\yarra\\anaconda3\\lib\\site-packages (from requests<3.0.0,>=2.13.0->spacy) (2.2.2)\n",
      "Requirement already satisfied: certifi>=2017.4.17 in c:\\users\\yarra\\anaconda3\\lib\\site-packages (from requests<3.0.0,>=2.13.0->spacy) (2024.8.30)\n",
      "Requirement already satisfied: blis<1.2.0,>=1.1.0 in c:\\users\\yarra\\anaconda3\\lib\\site-packages (from thinc<8.4.0,>=8.3.0->spacy) (1.1.0)\n",
      "Requirement already satisfied: confection<1.0.0,>=0.0.1 in c:\\users\\yarra\\anaconda3\\lib\\site-packages (from thinc<8.4.0,>=8.3.0->spacy) (0.1.5)\n",
      "Requirement already satisfied: colorama in c:\\users\\yarra\\anaconda3\\lib\\site-packages (from tqdm<5.0.0,>=4.38.0->spacy) (0.4.6)\n",
      "Requirement already satisfied: click<9.0.0,>=7.1.1 in c:\\users\\yarra\\anaconda3\\lib\\site-packages (from typer<1.0.0,>=0.3.0->spacy) (8.1.7)\n",
      "Requirement already satisfied: cloudpathlib<1.0.0,>=0.7.0 in c:\\users\\yarra\\anaconda3\\lib\\site-packages (from weasel<0.5.0,>=0.1.0->spacy) (0.20.0)\n",
      "Requirement already satisfied: smart-open<8.0.0,>=5.2.1 in c:\\users\\yarra\\anaconda3\\lib\\site-packages (from weasel<0.5.0,>=0.1.0->spacy) (5.2.1)\n",
      "Requirement already satisfied: MarkupSafe>=2.0 in c:\\users\\yarra\\anaconda3\\lib\\site-packages (from jinja2->spacy) (2.1.3)\n",
      "Requirement already satisfied: marisa-trie>=1.1.0 in c:\\users\\yarra\\anaconda3\\lib\\site-packages (from language-data>=1.2->langcodes<4.0.0,>=3.2.0->spacy) (1.2.1)\n",
      "Note: you may need to restart the kernel to use updated packages.\n"
     ]
    }
   ],
   "source": [
    "pip install spacy"
   ]
  },
  {
   "cell_type": "code",
   "execution_count": 63,
   "id": "434f05c3-0160-448e-a6bc-3f7403dfd02b",
   "metadata": {},
   "outputs": [
    {
     "name": "stdout",
     "output_type": "stream",
     "text": [
      "Requirement already satisfied: nltk in c:\\users\\yarra\\anaconda3\\lib\\site-packages (3.8.1)\n",
      "Requirement already satisfied: click in c:\\users\\yarra\\anaconda3\\lib\\site-packages (from nltk) (8.1.7)\n",
      "Requirement already satisfied: joblib in c:\\users\\yarra\\anaconda3\\lib\\site-packages (from nltk) (1.4.2)\n",
      "Requirement already satisfied: regex>=2021.8.3 in c:\\users\\yarra\\anaconda3\\lib\\site-packages (from nltk) (2023.10.3)\n",
      "Requirement already satisfied: tqdm in c:\\users\\yarra\\anaconda3\\lib\\site-packages (from nltk) (4.66.4)\n",
      "Requirement already satisfied: colorama in c:\\users\\yarra\\anaconda3\\lib\\site-packages (from click->nltk) (0.4.6)\n",
      "Note: you may need to restart the kernel to use updated packages.\n"
     ]
    }
   ],
   "source": [
    "pip install nltk"
   ]
  },
  {
   "cell_type": "code",
   "execution_count": 64,
   "id": "41c89ddf-17f6-413d-b246-d8550eb4babd",
   "metadata": {},
   "outputs": [
    {
     "name": "stderr",
     "output_type": "stream",
     "text": [
      "[nltk_data] Downloading package punkt to\n",
      "[nltk_data]     C:\\Users\\yarra\\AppData\\Roaming\\nltk_data...\n",
      "[nltk_data]   Package punkt is already up-to-date!\n"
     ]
    },
    {
     "data": {
      "text/plain": [
       "True"
      ]
     },
     "execution_count": 64,
     "metadata": {},
     "output_type": "execute_result"
    }
   ],
   "source": [
    "import spacy\n",
    "import nltk\n",
    "nltk.download('punkt')"
   ]
  },
  {
   "cell_type": "code",
   "execution_count": 65,
   "id": "1fb194e3-274f-4c33-bc02-ca866bb03f9e",
   "metadata": {},
   "outputs": [
    {
     "name": "stdout",
     "output_type": "stream",
     "text": [
      "Collecting en-core-web-sm==3.8.0\n",
      "  Downloading https://github.com/explosion/spacy-models/releases/download/en_core_web_sm-3.8.0/en_core_web_sm-3.8.0-py3-none-any.whl (12.8 MB)\n",
      "     ---------------------------------------- 0.0/12.8 MB ? eta -:--:--\n",
      "     --------------------------------------- 0.0/12.8 MB 660.6 kB/s eta 0:00:20\n",
      "     ---------------------------------------- 0.1/12.8 MB 1.4 MB/s eta 0:00:09\n",
      "     - -------------------------------------- 0.5/12.8 MB 3.7 MB/s eta 0:00:04\n",
      "     -- ------------------------------------- 0.8/12.8 MB 4.7 MB/s eta 0:00:03\n",
      "     --- ------------------------------------ 1.0/12.8 MB 5.1 MB/s eta 0:00:03\n",
      "     --- ------------------------------------ 1.2/12.8 MB 4.6 MB/s eta 0:00:03\n",
      "     ---- ----------------------------------- 1.4/12.8 MB 4.5 MB/s eta 0:00:03\n",
      "     ---- ----------------------------------- 1.5/12.8 MB 4.5 MB/s eta 0:00:03\n",
      "     ----- ---------------------------------- 1.8/12.8 MB 4.4 MB/s eta 0:00:03\n",
      "     ------ --------------------------------- 2.0/12.8 MB 4.3 MB/s eta 0:00:03\n",
      "     ------ --------------------------------- 2.2/12.8 MB 4.3 MB/s eta 0:00:03\n",
      "     ------- -------------------------------- 2.3/12.8 MB 4.2 MB/s eta 0:00:03\n",
      "     ------- -------------------------------- 2.5/12.8 MB 4.3 MB/s eta 0:00:03\n",
      "     -------- ------------------------------- 2.7/12.8 MB 4.2 MB/s eta 0:00:03\n",
      "     -------- ------------------------------- 2.9/12.8 MB 4.3 MB/s eta 0:00:03\n",
      "     --------- ------------------------------ 3.1/12.8 MB 4.2 MB/s eta 0:00:03\n",
      "     ---------- ----------------------------- 3.2/12.8 MB 4.1 MB/s eta 0:00:03\n",
      "     ---------- ----------------------------- 3.4/12.8 MB 4.1 MB/s eta 0:00:03\n",
      "     ----------- ---------------------------- 3.6/12.8 MB 4.2 MB/s eta 0:00:03\n",
      "     ----------- ---------------------------- 3.8/12.8 MB 4.2 MB/s eta 0:00:03\n",
      "     ------------ --------------------------- 4.0/12.8 MB 4.2 MB/s eta 0:00:03\n",
      "     ------------ --------------------------- 4.2/12.8 MB 4.1 MB/s eta 0:00:03\n",
      "     ------------- -------------------------- 4.3/12.8 MB 4.2 MB/s eta 0:00:03\n",
      "     ------------- -------------------------- 4.3/12.8 MB 4.2 MB/s eta 0:00:03\n",
      "     -------------- ------------------------- 4.7/12.8 MB 4.1 MB/s eta 0:00:02\n",
      "     --------------- ------------------------ 4.9/12.8 MB 4.1 MB/s eta 0:00:02\n",
      "     --------------- ------------------------ 5.1/12.8 MB 4.1 MB/s eta 0:00:02\n",
      "     ---------------- ----------------------- 5.3/12.8 MB 4.1 MB/s eta 0:00:02\n",
      "     ---------------- ----------------------- 5.4/12.8 MB 4.1 MB/s eta 0:00:02\n",
      "     ----------------- ---------------------- 5.6/12.8 MB 4.1 MB/s eta 0:00:02\n",
      "     ------------------ --------------------- 5.8/12.8 MB 4.1 MB/s eta 0:00:02\n",
      "     ------------------ --------------------- 6.0/12.8 MB 4.1 MB/s eta 0:00:02\n",
      "     ------------------- -------------------- 6.2/12.8 MB 4.1 MB/s eta 0:00:02\n",
      "     ------------------- -------------------- 6.3/12.8 MB 4.1 MB/s eta 0:00:02\n",
      "     -------------------- ------------------- 6.5/12.8 MB 4.1 MB/s eta 0:00:02\n",
      "     -------------------- ------------------- 6.7/12.8 MB 4.1 MB/s eta 0:00:02\n",
      "     --------------------- ------------------ 6.9/12.8 MB 4.1 MB/s eta 0:00:02\n",
      "     ---------------------- ----------------- 7.1/12.8 MB 4.0 MB/s eta 0:00:02\n",
      "     ---------------------- ----------------- 7.3/12.8 MB 4.0 MB/s eta 0:00:02\n",
      "     ----------------------- ---------------- 7.5/12.8 MB 4.0 MB/s eta 0:00:02\n",
      "     ----------------------- ---------------- 7.6/12.8 MB 4.1 MB/s eta 0:00:02\n",
      "     ------------------------ --------------- 7.8/12.8 MB 4.0 MB/s eta 0:00:02\n",
      "     ------------------------- -------------- 8.0/12.8 MB 4.0 MB/s eta 0:00:02\n",
      "     ------------------------- -------------- 8.2/12.8 MB 4.0 MB/s eta 0:00:02\n",
      "     -------------------------- ------------- 8.4/12.8 MB 4.1 MB/s eta 0:00:02\n",
      "     -------------------------- ------------- 8.6/12.8 MB 4.0 MB/s eta 0:00:02\n",
      "     --------------------------- ------------ 8.7/12.8 MB 4.0 MB/s eta 0:00:02\n",
      "     --------------------------- ------------ 8.9/12.8 MB 4.0 MB/s eta 0:00:01\n",
      "     ---------------------------- ----------- 9.1/12.8 MB 4.0 MB/s eta 0:00:01\n",
      "     ----------------------------- ---------- 9.3/12.8 MB 4.0 MB/s eta 0:00:01\n",
      "     ----------------------------- ---------- 9.5/12.8 MB 4.0 MB/s eta 0:00:01\n",
      "     ------------------------------ --------- 9.7/12.8 MB 4.0 MB/s eta 0:00:01\n",
      "     ------------------------------ --------- 9.8/12.8 MB 4.0 MB/s eta 0:00:01\n",
      "     ------------------------------- -------- 10.0/12.8 MB 4.0 MB/s eta 0:00:01\n",
      "     ------------------------------- -------- 10.2/12.8 MB 4.0 MB/s eta 0:00:01\n",
      "     -------------------------------- ------- 10.4/12.8 MB 4.1 MB/s eta 0:00:01\n",
      "     --------------------------------- ------ 10.6/12.8 MB 4.1 MB/s eta 0:00:01\n",
      "     --------------------------------- ------ 10.8/12.8 MB 4.0 MB/s eta 0:00:01\n",
      "     ---------------------------------- ----- 10.9/12.8 MB 4.0 MB/s eta 0:00:01\n",
      "     ---------------------------------- ----- 11.1/12.8 MB 4.0 MB/s eta 0:00:01\n",
      "     ----------------------------------- ---- 11.3/12.8 MB 3.9 MB/s eta 0:00:01\n",
      "     ----------------------------------- ---- 11.5/12.8 MB 3.9 MB/s eta 0:00:01\n",
      "     ------------------------------------ --- 11.6/12.8 MB 3.9 MB/s eta 0:00:01\n",
      "     ------------------------------------- -- 11.9/12.8 MB 4.0 MB/s eta 0:00:01\n",
      "     ------------------------------------- -- 12.1/12.8 MB 3.9 MB/s eta 0:00:01\n",
      "     -------------------------------------- - 12.2/12.8 MB 3.9 MB/s eta 0:00:01\n",
      "     -------------------------------------- - 12.4/12.8 MB 3.9 MB/s eta 0:00:01\n",
      "     ---------------------------------------  12.6/12.8 MB 3.9 MB/s eta 0:00:01\n",
      "     ---------------------------------------  12.8/12.8 MB 3.9 MB/s eta 0:00:01\n",
      "     ---------------------------------------- 12.8/12.8 MB 3.9 MB/s eta 0:00:00\n",
      "\u001b[38;5;2m[+] Download and installation successful\u001b[0m\n",
      "You can now load the package via spacy.load('en_core_web_sm')\n"
     ]
    }
   ],
   "source": [
    "!python -m spacy download en_core_web_sm"
   ]
  },
  {
   "cell_type": "code",
   "execution_count": 66,
   "id": "fc36ffdd-487c-4ef0-a6c1-d1c99930aad0",
   "metadata": {},
   "outputs": [],
   "source": [
    "model=spacy.load('en_core_web_sm')"
   ]
  },
  {
   "cell_type": "code",
   "execution_count": 67,
   "id": "38444d37-0f14-4ef1-bcd2-c7c62d051663",
   "metadata": {},
   "outputs": [],
   "source": [
    "msg=model(\"I am Yarra Mahidhar.I currently student at Vel Tech University in branch of Computer Science and Engineering with a CGPA of 8.1/10.\")"
   ]
  },
  {
   "cell_type": "code",
   "execution_count": 68,
   "id": "9a9d855c-d6a2-405d-8e41-75cb95419db2",
   "metadata": {},
   "outputs": [
    {
     "name": "stdout",
     "output_type": "stream",
     "text": [
      "I am Yarra Mahidhar.\n",
      "I currently student at Vel Tech University in branch of Computer Science and Engineering with a CGPA of 8.1/10.\n"
     ]
    }
   ],
   "source": [
    "for i in msg.sents:\n",
    "    print(i)"
   ]
  },
  {
   "cell_type": "code",
   "execution_count": 69,
   "id": "d03a62e1-a894-4ba7-9beb-fb40d64e15af",
   "metadata": {},
   "outputs": [
    {
     "name": "stdout",
     "output_type": "stream",
     "text": [
      "I PRON\n",
      "am AUX\n",
      "Yarra PROPN\n",
      "Mahidhar PROPN\n",
      ". PUNCT\n",
      "I PRON\n",
      "currently ADV\n",
      "student VERB\n",
      "at ADP\n",
      "Vel PROPN\n",
      "Tech PROPN\n",
      "University PROPN\n",
      "in ADP\n",
      "branch NOUN\n",
      "of ADP\n",
      "Computer PROPN\n",
      "Science PROPN\n",
      "and CCONJ\n",
      "Engineering PROPN\n",
      "with ADP\n",
      "a DET\n",
      "CGPA PROPN\n",
      "of ADP\n",
      "8.1/10 PROPN\n",
      ". PUNCT\n"
     ]
    }
   ],
   "source": [
    "# parts of speech\n",
    "for i in msg:\n",
    "    print(i,i.pos_)"
   ]
  },
  {
   "cell_type": "code",
   "execution_count": 70,
   "id": "c0516c8f-5fd7-4818-8015-2a6779efca26",
   "metadata": {},
   "outputs": [
    {
     "name": "stdout",
     "output_type": "stream",
     "text": [
      "I PRON pronoun\n",
      "am AUX auxiliary\n",
      "Yarra PROPN proper noun\n",
      "Mahidhar PROPN proper noun\n",
      ". PUNCT punctuation\n",
      "I PRON pronoun\n",
      "currently ADV adverb\n",
      "student VERB verb\n",
      "at ADP adposition\n",
      "Vel PROPN proper noun\n",
      "Tech PROPN proper noun\n",
      "University PROPN proper noun\n",
      "in ADP adposition\n",
      "branch NOUN noun\n",
      "of ADP adposition\n",
      "Computer PROPN proper noun\n",
      "Science PROPN proper noun\n",
      "and CCONJ coordinating conjunction\n",
      "Engineering PROPN proper noun\n",
      "with ADP adposition\n",
      "a DET determiner\n",
      "CGPA PROPN proper noun\n",
      "of ADP adposition\n",
      "8.1/10 PROPN proper noun\n",
      ". PUNCT punctuation\n"
     ]
    }
   ],
   "source": [
    "# parts of speech with explain \n",
    "for i in msg:\n",
    "    print(i,i.pos_,spacy.explain(i.pos_))"
   ]
  },
  {
   "cell_type": "code",
   "execution_count": 71,
   "id": "4333826a-3ca7-4dd1-a531-b7eb1d58d1f1",
   "metadata": {},
   "outputs": [
    {
     "name": "stdout",
     "output_type": "stream",
     "text": [
      "Yarra Mahidhar PERSON People, including fictional\n",
      "Vel Tech University ORG Companies, agencies, institutions, etc.\n",
      "Computer Science and Engineering ORG Companies, agencies, institutions, etc.\n",
      "8.1/10 CARDINAL Numerals that do not fall under another type\n"
     ]
    }
   ],
   "source": [
    "# Name Entity Detection\n",
    "for i in msg.ents:\n",
    "    print(i,i.label_,spacy.explain(i.label_))"
   ]
  },
  {
   "cell_type": "markdown",
   "id": "49f0b11f-ad46-4e0f-a983-5f6ee6dff25f",
   "metadata": {},
   "source": [
    "# Sentiment Analysis"
   ]
  },
  {
   "cell_type": "code",
   "execution_count": 75,
   "id": "81e590d3-afce-4724-bcc3-a5a823fb54d0",
   "metadata": {},
   "outputs": [
    {
     "name": "stdout",
     "output_type": "stream",
     "text": [
      "Requirement already satisfied: textblob in c:\\users\\yarra\\anaconda3\\lib\\site-packages (0.18.0.post0)\n",
      "Requirement already satisfied: nltk>=3.8 in c:\\users\\yarra\\anaconda3\\lib\\site-packages (from textblob) (3.8.1)\n",
      "Requirement already satisfied: click in c:\\users\\yarra\\anaconda3\\lib\\site-packages (from nltk>=3.8->textblob) (8.1.7)\n",
      "Requirement already satisfied: joblib in c:\\users\\yarra\\anaconda3\\lib\\site-packages (from nltk>=3.8->textblob) (1.4.2)\n",
      "Requirement already satisfied: regex>=2021.8.3 in c:\\users\\yarra\\anaconda3\\lib\\site-packages (from nltk>=3.8->textblob) (2023.10.3)\n",
      "Requirement already satisfied: tqdm in c:\\users\\yarra\\anaconda3\\lib\\site-packages (from nltk>=3.8->textblob) (4.66.4)\n",
      "Requirement already satisfied: colorama in c:\\users\\yarra\\anaconda3\\lib\\site-packages (from click->nltk>=3.8->textblob) (0.4.6)\n"
     ]
    }
   ],
   "source": [
    "!pip install textblob"
   ]
  },
  {
   "cell_type": "code",
   "execution_count": 85,
   "id": "f2024267-1855-4cc7-b97e-572eb40bc8ed",
   "metadata": {},
   "outputs": [],
   "source": [
    "from textblob import TextBlob"
   ]
  },
  {
   "cell_type": "markdown",
   "id": "a41def7c-5031-41d5-96c9-fda4111abcf6",
   "metadata": {},
   "source": [
    "#### Sentiment analysis of 3 statments or review"
   ]
  },
  {
   "cell_type": "code",
   "execution_count": 92,
   "id": "612550e7-8739-411b-be2f-a7416614da6e",
   "metadata": {},
   "outputs": [],
   "source": [
    "s1=\"The iPhone offers a seamless user experience with its sleek design, smooth iOS interface, and reliable performance.The camera quality is top-notch, especially for capturing photos in low light. The integration with other Apple products is a huge plus, making it a great choice for users in the Apple ecosystem. Battery life has also improved significantly in the latest models.\"\n",
    "s2=\"The iPhone is undoubtedly a premium device with great build quality and features, but the price can be a deterrent for many. While the camera and display are excellent, the lack of customization compared to Android and the absence of features like expandable storage might disappoint some users. Still, its performance and long-term updates make it a solid investment.\"\n",
    "s3=\"While the iPhone looks and feels premium, it's overpriced compared to other smartphones offering similar features. The closed ecosystem can feel restrictive, and some users might find the lack of innovation in design over recent years disappointing. Additionally, minor accessories like a charger not being included in the box can be frustrating.\"\n"
   ]
  },
  {
   "cell_type": "code",
   "execution_count": 94,
   "id": "e3597b8f-b5f6-4e89-9c7c-d34d0eabd664",
   "metadata": {},
   "outputs": [],
   "source": [
    "f1=TextBlob(s1)\n",
    "f2=TextBlob(s2)\n",
    "f3=TextBlob(s3)"
   ]
  },
  {
   "cell_type": "code",
   "execution_count": 98,
   "id": "d36dfc8b-2769-4f58-97fb-f9c5423658c3",
   "metadata": {},
   "outputs": [
    {
     "name": "stdout",
     "output_type": "stream",
     "text": [
      "Sentiment(polarity=0.32916666666666666, subjectivity=0.6166666666666667)\n",
      "Sentiment(polarity=0.4574999999999999, subjectivity=0.47000000000000003)\n",
      "Sentiment(polarity=-0.18214285714285713, subjectivity=0.4178571428571428)\n"
     ]
    }
   ],
   "source": [
    "print(f1.sentiment)\n",
    "print(f2.sentiment)\n",
    "print(f3.sentiment)"
   ]
  },
  {
   "cell_type": "code",
   "execution_count": null,
   "id": "6830ea1a-c5b6-48c0-b9d6-bbac6f42b9b2",
   "metadata": {},
   "outputs": [],
   "source": []
  }
 ],
 "metadata": {
  "kernelspec": {
   "display_name": "Python 3 (ipykernel)",
   "language": "python",
   "name": "python3"
  },
  "language_info": {
   "codemirror_mode": {
    "name": "ipython",
    "version": 3
   },
   "file_extension": ".py",
   "mimetype": "text/x-python",
   "name": "python",
   "nbconvert_exporter": "python",
   "pygments_lexer": "ipython3",
   "version": "3.12.4"
  }
 },
 "nbformat": 4,
 "nbformat_minor": 5
}
