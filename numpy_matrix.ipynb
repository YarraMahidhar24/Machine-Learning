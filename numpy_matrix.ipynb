{
 "cells": [
  {
   "cell_type": "code",
   "execution_count": 2,
   "id": "2dc40ef7-3a1b-4c12-8460-5d830810413b",
   "metadata": {},
   "outputs": [],
   "source": [
    "import numpy as np"
   ]
  },
  {
   "cell_type": "code",
   "execution_count": 3,
   "id": "0c4ccfcc-f934-4519-a439-4c21a7074ada",
   "metadata": {},
   "outputs": [
    {
     "name": "stdout",
     "output_type": "stream",
     "text": [
      "[[1 2 3]\n",
      " [4 5 6]\n",
      " [7 8 9]]\n"
     ]
    }
   ],
   "source": [
    "matrix1=np.matrix([[1,2,3],[4,5,6],[7,8,9]])\n",
    "a1=matrix1\n",
    "print(matrix1)"
   ]
  },
  {
   "cell_type": "code",
   "execution_count": 4,
   "id": "b76bb48d-8a93-4217-8164-9c30ea977cf4",
   "metadata": {},
   "outputs": [
    {
     "name": "stdout",
     "output_type": "stream",
     "text": [
      "[[10 20 30]\n",
      " [40 50 60]\n",
      " [70 80 90]]\n"
     ]
    }
   ],
   "source": [
    "matrix2=np.matrix([[10,20,30],[40,50,60],[70,80,90]])\n",
    "a2=matrix2\n",
    "print(matrix2)"
   ]
  },
  {
   "cell_type": "code",
   "execution_count": 5,
   "id": "d7508877-ac9d-4be4-aaa6-680f9106d260",
   "metadata": {},
   "outputs": [
    {
     "name": "stdout",
     "output_type": "stream",
     "text": [
      "[[ 300  360  420]\n",
      " [ 660  810  960]\n",
      " [1020 1260 1500]]\n"
     ]
    }
   ],
   "source": [
    "matrix_multiplication=a1*a2\n",
    "print(matrix_multiplication)"
   ]
  },
  {
   "cell_type": "code",
   "execution_count": 6,
   "id": "4dcc5e1e-52bb-4c3b-b329-b803cb932f6d",
   "metadata": {},
   "outputs": [
    {
     "name": "stdout",
     "output_type": "stream",
     "text": [
      "[[1 4 7]\n",
      " [2 5 8]\n",
      " [3 6 9]]\n"
     ]
    }
   ],
   "source": [
    "transpose_a1=np.transpose(a1)\n",
    "print(transpose_a1)"
   ]
  },
  {
   "cell_type": "code",
   "execution_count": 7,
   "id": "51634cb6-e8a6-4c75-9fe8-648b2edb1c74",
   "metadata": {},
   "outputs": [
    {
     "name": "stdout",
     "output_type": "stream",
     "text": [
      "[[ 1.97032484e+15 -3.94064967e+15  1.97032484e+15]\n",
      " [-3.94064967e+15  7.88129935e+15 -3.94064967e+15]\n",
      " [ 1.97032484e+15 -3.94064967e+15  1.97032484e+15]]\n"
     ]
    }
   ],
   "source": [
    "invers=np.linalg.inv(a2)\n",
    "print(invers)"
   ]
  },
  {
   "cell_type": "code",
   "execution_count": 8,
   "id": "4a0177f1-67c0-4c27-b898-18b69606e1d3",
   "metadata": {},
   "outputs": [
    {
     "name": "stdout",
     "output_type": "stream",
     "text": [
      "-9.51619735392994e-16\n"
     ]
    }
   ],
   "source": [
    "det=np.linalg.det(a1)\n",
    "print(det)"
   ]
  }
 ],
 "metadata": {
  "kernelspec": {
   "display_name": "Python 3 (ipykernel)",
   "language": "python",
   "name": "python3"
  },
  "language_info": {
   "codemirror_mode": {
    "name": "ipython",
    "version": 3
   },
   "file_extension": ".py",
   "mimetype": "text/x-python",
   "name": "python",
   "nbconvert_exporter": "python",
   "pygments_lexer": "ipython3",
   "version": "3.12.4"
  }
 },
 "nbformat": 4,
 "nbformat_minor": 5
}
