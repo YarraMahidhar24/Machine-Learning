{
 "cells": [
  {
   "cell_type": "code",
   "execution_count": 2,
   "id": "f1d2de64-7a6d-4b72-8412-68165da6f627",
   "metadata": {},
   "outputs": [],
   "source": [
    "import numpy as np"
   ]
  },
  {
   "cell_type": "code",
   "execution_count": 3,
   "id": "ed9898a9-8690-4a62-ba33-ab4e3fd6bdf2",
   "metadata": {},
   "outputs": [
    {
     "data": {
      "text/plain": [
       "array([10, 20, 30, 40, 50])"
      ]
     },
     "execution_count": 3,
     "metadata": {},
     "output_type": "execute_result"
    }
   ],
   "source": [
    "arr1_1d=np.array([1,2,3,4,5])\n",
    "arr2_1d=np.array([10,20,30,40,50])\n",
    "arr2_1d"
   ]
  },
  {
   "cell_type": "code",
   "execution_count": 4,
   "id": "12f00ac9-db34-4b4f-ac10-aae6402787b9",
   "metadata": {},
   "outputs": [
    {
     "name": "stdout",
     "output_type": "stream",
     "text": [
      "10 20 30 40 50 60 70 80 90 100 110 120 "
     ]
    }
   ],
   "source": [
    "arr1_2d=np.array([[1,2,3],[4,5,6],[7,8,9],[10,11,12]])\n",
    "arr2_2d=np.array([[10,20,30],[40,50,60],[70,80,90],[100,110,120]])\n",
    "for i in arr2_2d:\n",
    "    for j in i:\n",
    "        print(j,end=\" \")"
   ]
  },
  {
   "cell_type": "code",
   "execution_count": 5,
   "id": "df3e451b-c2f8-4a91-b9c3-4b7eb25637c1",
   "metadata": {},
   "outputs": [
    {
     "name": "stdout",
     "output_type": "stream",
     "text": [
      "10 20 30 40 50 60 \n",
      "70 80 90 100 110 120 \n"
     ]
    }
   ],
   "source": [
    "arr1_3d=np.array([[[1,2,3],[4,5,6]],[[7,8,9],[10,11,12]]])\n",
    "arr2_3d=np.array([[[10,20,30],[40,50,60]],[[70,80,90],[100,110,120]]])\n",
    "for i in arr2_3d:\n",
    "    for k in i:\n",
    "        for j in k:\n",
    "            print(j,end=\" \")\n",
    "    print()"
   ]
  },
  {
   "cell_type": "code",
   "execution_count": 6,
   "id": "a1ba747e-4535-4322-94ab-de5298bde11d",
   "metadata": {},
   "outputs": [
    {
     "data": {
      "text/plain": [
       "array([11, 22, 33, 44, 55])"
      ]
     },
     "execution_count": 6,
     "metadata": {},
     "output_type": "execute_result"
    }
   ],
   "source": [
    "add_1d=np.add(arr1_1d,arr2_1d)\n",
    "add_1d"
   ]
  },
  {
   "cell_type": "code",
   "execution_count": 7,
   "id": "a2b6a4ab-0d82-40fb-95ff-e725fa63a891",
   "metadata": {},
   "outputs": [
    {
     "data": {
      "text/plain": [
       "array([ -9, -18, -27, -36, -45])"
      ]
     },
     "execution_count": 7,
     "metadata": {},
     "output_type": "execute_result"
    }
   ],
   "source": [
    "subtract_1d=np.subtract(arr1_1d,arr2_1d)\n",
    "subtract_1d"
   ]
  },
  {
   "cell_type": "code",
   "execution_count": 8,
   "id": "c683ca2f-b152-4629-80ab-9dbd04556971",
   "metadata": {},
   "outputs": [
    {
     "data": {
      "text/plain": [
       "array([10., 10., 10., 10., 10.])"
      ]
     },
     "execution_count": 8,
     "metadata": {},
     "output_type": "execute_result"
    }
   ],
   "source": [
    "divide_1d=np.divide(arr2_1d,arr1_1d)\n",
    "divide_1d"
   ]
  },
  {
   "cell_type": "code",
   "execution_count": 9,
   "id": "8bf1957a-12aa-4e17-9d39-00fb4f140c25",
   "metadata": {},
   "outputs": [
    {
     "data": {
      "text/plain": [
       "array([ 10,  40,  90, 160, 250])"
      ]
     },
     "execution_count": 9,
     "metadata": {},
     "output_type": "execute_result"
    }
   ],
   "source": [
    "multiply_1d=np.multiply(arr2_1d,arr1_1d)\n",
    "multiply_1d"
   ]
  },
  {
   "cell_type": "code",
   "execution_count": 10,
   "id": "7b224a98-bee8-4a04-a46a-6aff332a5e89",
   "metadata": {},
   "outputs": [
    {
     "data": {
      "text/plain": [
       "array([1, 2, 3, 4, 5])"
      ]
     },
     "execution_count": 10,
     "metadata": {},
     "output_type": "execute_result"
    }
   ],
   "source": [
    "mod_1d=np.mod(arr1_1d,arr2_1d)\n",
    "mod_1d"
   ]
  },
  {
   "cell_type": "code",
   "execution_count": 11,
   "id": "26ab1a98-b0b6-423b-870b-fe1d1ac46754",
   "metadata": {},
   "outputs": [
    {
     "data": {
      "text/plain": [
       "array([       10,       400,     27000,   2560000, 312500000])"
      ]
     },
     "execution_count": 11,
     "metadata": {},
     "output_type": "execute_result"
    }
   ],
   "source": [
    "power_1d=np.power(arr2_1d,arr1_1d)\n",
    "power_1d"
   ]
  },
  {
   "cell_type": "code",
   "execution_count": 12,
   "id": "5e92fdc4-4bb4-4e5d-9aae-ee7c6bc0c7ab",
   "metadata": {},
   "outputs": [
    {
     "data": {
      "text/plain": [
       "10"
      ]
     },
     "execution_count": 12,
     "metadata": {},
     "output_type": "execute_result"
    }
   ],
   "source": [
    "min_1d=np.min(arr2_1d)\n",
    "min_1d"
   ]
  },
  {
   "cell_type": "code",
   "execution_count": 13,
   "id": "43b7022e-c597-4102-8462-1284b262e20c",
   "metadata": {},
   "outputs": [
    {
     "data": {
      "text/plain": [
       "50"
      ]
     },
     "execution_count": 13,
     "metadata": {},
     "output_type": "execute_result"
    }
   ],
   "source": [
    "max_1d=np.max(arr2_1d)\n",
    "max_1d"
   ]
  },
  {
   "cell_type": "code",
   "execution_count": 14,
   "id": "934cc85d-ffb1-400b-ab6e-735c7ccdf0ab",
   "metadata": {},
   "outputs": [
    {
     "data": {
      "text/plain": [
       "0"
      ]
     },
     "execution_count": 14,
     "metadata": {},
     "output_type": "execute_result"
    }
   ],
   "source": [
    "argmin_1d=np.argmin(arr2_1d)\n",
    "argmin_1d"
   ]
  },
  {
   "cell_type": "code",
   "execution_count": 15,
   "id": "3a3d2533-a303-4c4c-a16e-ccae2b0c3e60",
   "metadata": {},
   "outputs": [
    {
     "data": {
      "text/plain": [
       "4"
      ]
     },
     "execution_count": 15,
     "metadata": {},
     "output_type": "execute_result"
    }
   ],
   "source": [
    "argmax_1d=np.argmax(arr2_1d)\n",
    "argmax_1d"
   ]
  },
  {
   "cell_type": "code",
   "execution_count": 16,
   "id": "c1e1a2ad-d29a-4e48-90e0-73df2d234192",
   "metadata": {},
   "outputs": [],
   "source": [
    "# sin"
   ]
  },
  {
   "cell_type": "code",
   "execution_count": 17,
   "id": "66b9f8bb-b84e-49a9-9adf-526542357a7b",
   "metadata": {},
   "outputs": [],
   "source": [
    "# cos"
   ]
  },
  {
   "cell_type": "code",
   "execution_count": 18,
   "id": "6a77a08c-892c-4f67-844b-b22c40a2aa37",
   "metadata": {},
   "outputs": [],
   "source": [
    "# sqrt"
   ]
  },
  {
   "cell_type": "code",
   "execution_count": 19,
   "id": "7d11a658-15f7-45b0-8f8d-cd6d97193055",
   "metadata": {},
   "outputs": [],
   "source": [
    "# comsum "
   ]
  },
  {
   "cell_type": "code",
   "execution_count": 20,
   "id": "bb8cc2f0-e189-448f-b3ba-b58310e56cfe",
   "metadata": {},
   "outputs": [
    {
     "data": {
      "text/plain": [
       "array([ 1,  2,  3,  4,  5, 10, 20, 30, 40, 50])"
      ]
     },
     "execution_count": 20,
     "metadata": {},
     "output_type": "execute_result"
    }
   ],
   "source": [
    "concatenate_1d=np.concatenate((arr1_1d,arr2_1d))\n",
    "concatenate_1d"
   ]
  },
  {
   "cell_type": "code",
   "execution_count": 21,
   "id": "f5a36f1a-d053-4794-a30b-482bd65b5ed8",
   "metadata": {},
   "outputs": [
    {
     "data": {
      "text/plain": [
       "array([[  1,   2,   3],\n",
       "       [  4,   5,   6],\n",
       "       [  7,   8,   9],\n",
       "       [ 10,  11,  12],\n",
       "       [ 10,  20,  30],\n",
       "       [ 40,  50,  60],\n",
       "       [ 70,  80,  90],\n",
       "       [100, 110, 120]])"
      ]
     },
     "execution_count": 21,
     "metadata": {},
     "output_type": "execute_result"
    }
   ],
   "source": [
    "concatenate_2d_axis0=np.concatenate((arr1_2d,arr2_2d),axis=0)\n",
    "concatenate_2d_axis0"
   ]
  },
  {
   "cell_type": "code",
   "execution_count": 22,
   "id": "d63aa6d0-2ce7-47ee-a130-4d6904ce818e",
   "metadata": {},
   "outputs": [
    {
     "data": {
      "text/plain": [
       "array([[  1,   2,   3,  10,  20,  30],\n",
       "       [  4,   5,   6,  40,  50,  60],\n",
       "       [  7,   8,   9,  70,  80,  90],\n",
       "       [ 10,  11,  12, 100, 110, 120]])"
      ]
     },
     "execution_count": 22,
     "metadata": {},
     "output_type": "execute_result"
    }
   ],
   "source": [
    "concatenate_2d_axis1=np.concatenate((arr1_2d,arr2_2d),axis=1)\n",
    "concatenate_2d_axis1"
   ]
  },
  {
   "cell_type": "code",
   "execution_count": 23,
   "id": "1819a9e2-5bfb-42db-a6dd-610fa27a9074",
   "metadata": {},
   "outputs": [
    {
     "data": {
      "text/plain": [
       "[array([10, 20, 30]), array([40, 50])]"
      ]
     },
     "execution_count": 23,
     "metadata": {},
     "output_type": "execute_result"
    }
   ],
   "source": [
    "split_1d=np.array_split(arr2_1d,2)\n",
    "split_1d"
   ]
  },
  {
   "cell_type": "code",
   "execution_count": 24,
   "id": "f8ee276b-d4ab-4e8e-8d01-617def370b2b",
   "metadata": {},
   "outputs": [
    {
     "data": {
      "text/plain": [
       "array([[[0, 0, 0],\n",
       "        [0, 0, 0]],\n",
       "\n",
       "       [[0, 0, 0],\n",
       "        [0, 0, 0]]])"
      ]
     },
     "execution_count": 24,
     "metadata": {},
     "output_type": "execute_result"
    }
   ],
   "source": [
    "reciprocal_3d=np.reciprocal(arr2_3d)\n",
    "reciprocal_3d"
   ]
  },
  {
   "cell_type": "code",
   "execution_count": null,
   "id": "5c87fba3-fb2b-4a5e-8a82-b2124efa3295",
   "metadata": {},
   "outputs": [],
   "source": []
  }
 ],
 "metadata": {
  "kernelspec": {
   "display_name": "Python 3 (ipykernel)",
   "language": "python",
   "name": "python3"
  },
  "language_info": {
   "codemirror_mode": {
    "name": "ipython",
    "version": 3
   },
   "file_extension": ".py",
   "mimetype": "text/x-python",
   "name": "python",
   "nbconvert_exporter": "python",
   "pygments_lexer": "ipython3",
   "version": "3.12.4"
  }
 },
 "nbformat": 4,
 "nbformat_minor": 5
}
